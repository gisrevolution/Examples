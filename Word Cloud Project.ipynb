{
 "cells": [
  {
   "cell_type": "markdown",
   "metadata": {},
   "source": [
    "# Word Cloud Project"
   ]
  },
  {
   "cell_type": "markdown",
   "metadata": {},
   "source": [
    "This notebook will create a \"word cloud\" from a text file, which can be very usefull in understanding the emphasis on certain words within a resume.  You will need to provide a simple text file using the `_upload` function.  For resumes, its best to include only the paragraphs/job descriptions (titles should be self explanatory).  The `calculate_frequencies` function will remove punctuation, remove words that do not contain all letters, count the word frequencies, ignore uninteresting or irrelevant words and return a dictionary.  The `wordcloud` module will then generate a word cloud image from that dictionary."
   ]
  },
  {
   "cell_type": "markdown",
   "metadata": {},
   "source": [
    "## Installs and Imports"
   ]
  },
  {
   "cell_type": "markdown",
   "metadata": {},
   "source": [
    "Run the following cell to perform all the installs and imports for your word cloud script and uploader widget.  It may take a minute for all of this to run and there will be a lot of output messages, you should get this as the final output (might be highlighted in red):\n",
    "<br><br>\n",
    "**Enabling notebook extension fileupload/extension...**\n",
    "<br>\n",
    "**- Validating: <font color =green>OK</font>**"
   ]
  },
  {
   "cell_type": "markdown",
   "metadata": {},
   "source": [
    "### Installs"
   ]
  },
  {
   "cell_type": "code",
   "execution_count": null,
   "metadata": {},
   "outputs": [],
   "source": [
    "!pip install wordcloud\n",
    "!pip install fileupload\n",
    "!pip install ipywidgets\n",
    "!jupyter nbextension install --py --user fileupload\n",
    "!jupyter nbextension enable --py fileupload"
   ]
  },
  {
   "cell_type": "markdown",
   "metadata": {},
   "source": [
    "**IMPORTANT!** If this was your first time running the above cell containing the installs and imports, you will need save and restart the notebook. Then under the File menu above,  select Close and Halt. This will close the notebook.  When the notebook has completely shut down (grayed out), reopen it."
   ]
  },
  {
   "cell_type": "markdown",
   "metadata": {},
   "source": [
    "### Imports"
   ]
  },
  {
   "cell_type": "code",
   "execution_count": null,
   "metadata": {},
   "outputs": [],
   "source": [
    "import wordcloud\n",
    "import numpy as np\n",
    "from matplotlib import pyplot as plt\n",
    "from IPython.display import display\n",
    "import fileupload\n",
    "import io\n",
    "import string\n",
    "import sys"
   ]
  },
  {
   "cell_type": "markdown",
   "metadata": {},
   "source": [
    "## File Upload"
   ]
  },
  {
   "cell_type": "markdown",
   "metadata": {},
   "source": [
    "To upload your text file, you will need an uploader widget.  Run the following cell that contains all the code for a custom uploader widget. Once you run this cell, a \"Browse\" button should appear below it. Click this button and navigate the window to locate your saved text file."
   ]
  },
  {
   "cell_type": "code",
   "execution_count": null,
   "metadata": {},
   "outputs": [],
   "source": [
    "def _upload():\n",
    "\n",
    "    _upload_widget = fileupload.FileUploadWidget()\n",
    "\n",
    "    def _cb(change):\n",
    "        global file_contents\n",
    "        decoded = io.StringIO(change['owner'].data.decode('utf-8'))\n",
    "        filename = change['owner'].filename\n",
    "        print('Uploaded `{}` ({:.2f} kB)'.format(filename, len(decoded.read()) / 2 **10))\n",
    "        file_contents = decoded.getvalue()\n",
    "\n",
    "    _upload_widget.observe(_cb, names='data')\n",
    "    display(_upload_widget)\n",
    "\n",
    "_upload()"
   ]
  },
  {
   "cell_type": "markdown",
   "metadata": {},
   "source": [
    "## Calculate the Word Frequencies"
   ]
  },
  {
   "cell_type": "markdown",
   "metadata": {},
   "source": [
    "The function in the cell below iterates through the words in *file_contents*, removes punctuation, and counts the frequency of each word.  This function will also remove punctuation, but will then treat these words as unique words (i.e. \"you've\" will become \"youve\").  Oh, be sure to update the boring words list to fit your needs (like \"Monday\" or \"January\")."
   ]
  },
  {
   "cell_type": "code",
   "execution_count": null,
   "metadata": {},
   "outputs": [],
   "source": [
    "def calculate_frequencies(file_contents):\n",
    "    # Here is a list of punctuations and uninteresting words you can use to process your text.\n",
    "    # You can add additional words at the end of the uninteresting_words list if you want.\n",
    "    punctuations = '''!()-[]{};:'\"\\,<>./?@#$%^&*_~'''\n",
    "    uninteresting_words = ['a', 'all', 'am', 'an', 'and', 'any', 'are', 'as', 'at', 'be', 'been', 'being', 'both', 'but', \\\n",
    "                           'by', 'can', 'did', 'do', 'does', 'dozens', 'each', 'few', 'from', 'for', 'had', 'has', 'have', \\\n",
    "                           'he', 'her', 'here', 'hers', 'him', 'his', 'how', 'i', 'if', 'in', 'is', 'it', 'its', 'just', \\\n",
    "                           'me', 'more', 'my', 'no', 'nor', 'of', 'on', 'or', 'our', 'ours', 'she', 'some', 'such', 'that', \\\n",
    "                           'the', 'their', 'them', 'they', 'this', 'through', 'to', 'too', 'very', 'was', 'we', 'were', \\\n",
    "                           'what', 'when', 'where', 'which', 'who', 'whom', 'will', 'with', 'within', 'you', 'your', \\\n",
    "                           'yours', 'youve']\n",
    "    \n",
    "    allwords = {}\n",
    "    for word in file_contents.split():\n",
    "        # iterate through word to strip puncuation\n",
    "        no_punct = \"\"\n",
    "        for letter in word:\n",
    "            if letter not in punctuations:\n",
    "                no_punct = no_punct + letter\n",
    "        \n",
    "        word = no_punct\n",
    "        \n",
    "        # add or increment the value in the dictionary\n",
    "        if word.lower() in uninteresting_words:\n",
    "            pass\n",
    "        elif word.lower() not in allwords:\n",
    "            allwords[word.lower()] = 1\n",
    "        else:\n",
    "            allwords[word.lower()] += 1\n",
    "            \n",
    "    #return allwords in wordcloud\n",
    "    cloud = wordcloud.WordCloud(background_color ='white', \n",
    "                max_words=1000,\n",
    "                min_font_size = 10)\n",
    "    cloud.generate_from_frequencies(allwords)\n",
    "    return cloud.to_array()"
   ]
  },
  {
   "cell_type": "markdown",
   "metadata": {},
   "source": [
    "## Generate the Word Cloud"
   ]
  },
  {
   "cell_type": "markdown",
   "metadata": {},
   "source": [
    "Your word cloud image should appear after running the cell below."
   ]
  },
  {
   "cell_type": "code",
   "execution_count": null,
   "metadata": {},
   "outputs": [],
   "source": [
    "# Display your wordcloud image\n",
    "\n",
    "myimage = calculate_frequencies(file_contents)\n",
    "plt.figure(figsize = (12, 12), facecolor = None) \n",
    "plt.imshow(myimage, interpolation = 'nearest')\n",
    "plt.axis('off')\n",
    "plt.show()"
   ]
  },
  {
   "cell_type": "markdown",
   "metadata": {},
   "source": [
    "You can rerun this Notebook by clicking \"Kernal\", then selecting \"Restart & Clear Output\".  You will have to run the \"Installs\" cell only once, but you will need to run the \"Imports\" cell everytime you start/restart the Notebook."
   ]
  }
 ],
 "metadata": {
  "coursera": {
   "course_slug": "python-crash-course",
   "graded_item_id": "Z5d28",
   "launcher_item_id": "eSjyd"
  },
  "kernelspec": {
   "display_name": "Python 3",
   "language": "python",
   "name": "python3"
  },
  "language_info": {
   "codemirror_mode": {
    "name": "ipython",
    "version": 3
   },
   "file_extension": ".py",
   "mimetype": "text/x-python",
   "name": "python",
   "nbconvert_exporter": "python",
   "pygments_lexer": "ipython3",
   "version": "3.7.6"
  },
  "widgets": {
   "application/vnd.jupyter.widget-state+json": {
    "state": {},
    "version_major": 2,
    "version_minor": 0
   }
  }
 },
 "nbformat": 4,
 "nbformat_minor": 2
}
